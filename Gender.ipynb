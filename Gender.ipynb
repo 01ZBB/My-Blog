{
 "cells": [
  {
   "cell_type": "code",
   "execution_count": 5,
   "metadata": {},
   "outputs": [],
   "source": [
    "import pandas as pd\n",
    "import numpy as np\n",
    "import matplotlib\n",
    "import matplotlib.pyplot as plt"
   ]
  },
  {
   "cell_type": "code",
   "execution_count": 6,
   "metadata": {},
   "outputs": [],
   "source": [
    "Gender= pd.read_csv('Gender.csv')"
   ]
  },
  {
   "cell_type": "code",
   "execution_count": 121,
   "metadata": {},
   "outputs": [
    {
     "data": {
      "text/html": [
       "<div>\n",
       "<style scoped>\n",
       "    .dataframe tbody tr th:only-of-type {\n",
       "        vertical-align: middle;\n",
       "    }\n",
       "\n",
       "    .dataframe tbody tr th {\n",
       "        vertical-align: top;\n",
       "    }\n",
       "\n",
       "    .dataframe thead th {\n",
       "        text-align: right;\n",
       "    }\n",
       "</style>\n",
       "<table border=\"1\" class=\"dataframe\">\n",
       "  <thead>\n",
       "    <tr style=\"text-align: right;\">\n",
       "      <th></th>\n",
       "      <th>iid</th>\n",
       "      <th>gender</th>\n",
       "      <th>mn_sat</th>\n",
       "      <th>attr</th>\n",
       "      <th>dec</th>\n",
       "    </tr>\n",
       "  </thead>\n",
       "  <tbody>\n",
       "    <tr>\n",
       "      <th>0</th>\n",
       "      <td>234</td>\n",
       "      <td>0</td>\n",
       "      <td>1,070.00</td>\n",
       "      <td>4.0</td>\n",
       "      <td>0</td>\n",
       "    </tr>\n",
       "    <tr>\n",
       "      <th>1</th>\n",
       "      <td>234</td>\n",
       "      <td>0</td>\n",
       "      <td>1,070.00</td>\n",
       "      <td>7.0</td>\n",
       "      <td>1</td>\n",
       "    </tr>\n",
       "    <tr>\n",
       "      <th>2</th>\n",
       "      <td>234</td>\n",
       "      <td>0</td>\n",
       "      <td>1,070.00</td>\n",
       "      <td>4.0</td>\n",
       "      <td>0</td>\n",
       "    </tr>\n",
       "    <tr>\n",
       "      <th>3</th>\n",
       "      <td>234</td>\n",
       "      <td>0</td>\n",
       "      <td>1,070.00</td>\n",
       "      <td>4.0</td>\n",
       "      <td>0</td>\n",
       "    </tr>\n",
       "    <tr>\n",
       "      <th>4</th>\n",
       "      <td>234</td>\n",
       "      <td>0</td>\n",
       "      <td>1,070.00</td>\n",
       "      <td>3.0</td>\n",
       "      <td>0</td>\n",
       "    </tr>\n",
       "  </tbody>\n",
       "</table>\n",
       "</div>"
      ],
      "text/plain": [
       "   iid  gender    mn_sat  attr  dec\n",
       "0  234       0  1,070.00   4.0    0\n",
       "1  234       0  1,070.00   7.0    1\n",
       "2  234       0  1,070.00   4.0    0\n",
       "3  234       0  1,070.00   4.0    0\n",
       "4  234       0  1,070.00   3.0    0"
      ]
     },
     "execution_count": 121,
     "metadata": {},
     "output_type": "execute_result"
    }
   ],
   "source": [
    "Gender.head()"
   ]
  },
  {
   "cell_type": "code",
   "execution_count": 8,
   "metadata": {},
   "outputs": [
    {
     "data": {
      "text/plain": [
       "array([[234, 0, '1,070.00', 4.0, 0],\n",
       "       [234, 0, '1,070.00', 7.0, 1],\n",
       "       [234, 0, '1,070.00', 4.0, 0],\n",
       "       ...,\n",
       "       [551, 1, '1,400.00', 7.0, 0],\n",
       "       [551, 1, '1,400.00', 5.0, 0],\n",
       "       [551, 1, '1,400.00', 4.0, 0]], dtype=object)"
      ]
     },
     "execution_count": 8,
     "metadata": {},
     "output_type": "execute_result"
    }
   ],
   "source": [
    "df = np.array(Gender)\n",
    "df"
   ]
  },
  {
   "cell_type": "code",
   "execution_count": 159,
   "metadata": {},
   "outputs": [
    {
     "name": "stderr",
     "output_type": "stream",
     "text": [
      "No handles with labels found to put in legend.\n"
     ]
    },
    {
     "data": {
      "text/plain": [
       "[Text(0,0,'1'),\n",
       " Text(0,0,'2'),\n",
       " Text(0,0,'3'),\n",
       " Text(0,0,'4'),\n",
       " Text(0,0,'5'),\n",
       " Text(0,0,'6'),\n",
       " Text(0,0,'7'),\n",
       " Text(0,0,'8'),\n",
       " Text(0,0,'9'),\n",
       " Text(0,0,'10')]"
      ]
     },
     "execution_count": 159,
     "metadata": {},
     "output_type": "execute_result"
    },
    {
     "data": {
      "image/png": "[encoded data removed]",
      "text/plain": [
       "<Figure size 720x504 with 1 Axes>"
      ]
     },
     "metadata": {
      "needs_background": "light"
     },
     "output_type": "display_data"
    }
   ],
   "source": [
    "attr_d = [\"1\", \"2\", \"3\", \"4\", \"5\", \"6\",\"7\",\"8\",\"9\",\"10\"]\n",
    "f_d=[0.018518519,0.04040404,0.049943883,0.107182941,0.166105499,0.19640853,0.202581369,0.137485971,0.05667789,0.023007856\n",
    "]\n",
    "m_d=[0.002423263,0.013731826,0.038772213,0.066235864,0.171243942,0.220516963,0.2180937,0.142972536,0.066235864,0.059773829\n",
    "]\n",
    "# 创建分组柱状图，需要自己控制x轴坐标\n",
    "xticks = np.arange(len(attr_d))\n",
    "\n",
    "fig, ax = plt.subplots(figsize=(10, 7))\n",
    "# 所有门店第一种产品的销量，注意控制柱子的宽度，这里选择0.25\n",
    "ax.bar(xticks, m_d, width=0.25, color=\"darkred\")\n",
    "# 所有门店第二种产品的销量，通过微调x轴坐标来调整新增柱子的位置\n",
    "ax.bar(xticks + 0.25, f_d, width=0.25, color=\"darkblue\")\n",
    "\n",
    "\n",
    "ax.set_xlabel(\"attractiveness\")\n",
    "ax.set_ylabel(\"Density\")\n",
    "ax.legend()\n",
    "\n",
    "# 最后调整x轴标签的位置\n",
    "ax.set_xticks(xticks + 0.25)\n",
    "ax.set_xticklabels(attr_d)"
   ]
  },
  {
   "cell_type": "code",
   "execution_count": 130,
   "metadata": {},
   "outputs": [
    {
     "data": {
      "text/html": [
       "<div>\n",
       "<style scoped>\n",
       "    .dataframe tbody tr th:only-of-type {\n",
       "        vertical-align: middle;\n",
       "    }\n",
       "\n",
       "    .dataframe tbody tr th {\n",
       "        vertical-align: top;\n",
       "    }\n",
       "\n",
       "    .dataframe thead th {\n",
       "        text-align: right;\n",
       "    }\n",
       "</style>\n",
       "<table border=\"1\" class=\"dataframe\">\n",
       "  <thead>\n",
       "    <tr style=\"text-align: right;\">\n",
       "      <th></th>\n",
       "      <th>iid</th>\n",
       "      <th>gender</th>\n",
       "      <th>mn_sat</th>\n",
       "      <th>attr</th>\n",
       "      <th>dec</th>\n",
       "    </tr>\n",
       "  </thead>\n",
       "  <tbody>\n",
       "    <tr>\n",
       "      <th>0</th>\n",
       "      <td>234</td>\n",
       "      <td>0</td>\n",
       "      <td>1070.0</td>\n",
       "      <td>4.0</td>\n",
       "      <td>0</td>\n",
       "    </tr>\n",
       "    <tr>\n",
       "      <th>1</th>\n",
       "      <td>234</td>\n",
       "      <td>0</td>\n",
       "      <td>1070.0</td>\n",
       "      <td>4.0</td>\n",
       "      <td>0</td>\n",
       "    </tr>\n",
       "    <tr>\n",
       "      <th>2</th>\n",
       "      <td>234</td>\n",
       "      <td>0</td>\n",
       "      <td>1070.0</td>\n",
       "      <td>4.0</td>\n",
       "      <td>0</td>\n",
       "    </tr>\n",
       "    <tr>\n",
       "      <th>3</th>\n",
       "      <td>234</td>\n",
       "      <td>0</td>\n",
       "      <td>1070.0</td>\n",
       "      <td>3.0</td>\n",
       "      <td>0</td>\n",
       "    </tr>\n",
       "    <tr>\n",
       "      <th>4</th>\n",
       "      <td>234</td>\n",
       "      <td>0</td>\n",
       "      <td>1070.0</td>\n",
       "      <td>5.0</td>\n",
       "      <td>0</td>\n",
       "    </tr>\n",
       "  </tbody>\n",
       "</table>\n",
       "</div>"
      ],
      "text/plain": [
       "   iid  gender  mn_sat  attr  dec\n",
       "0  234       0  1070.0   4.0    0\n",
       "1  234       0  1070.0   4.0    0\n",
       "2  234       0  1070.0   4.0    0\n",
       "3  234       0  1070.0   3.0    0\n",
       "4  234       0  1070.0   5.0    0"
      ]
     },
     "execution_count": 130,
     "metadata": {},
     "output_type": "execute_result"
    }
   ],
   "source": [
    "g0d0= pd.read_csv('g0d0.csv')\n",
    "g0d0.head()"
   ]
  },
  {
   "cell_type": "code",
   "execution_count": 131,
   "metadata": {},
   "outputs": [
    {
     "name": "stdout",
     "output_type": "stream",
     "text": [
      "<class 'pandas.core.frame.DataFrame'>\n",
      "RangeIndex: 1088 entries, 0 to 1087\n",
      "Data columns (total 5 columns):\n",
      "iid       1088 non-null int64\n",
      "gender    1088 non-null int64\n",
      "mn_sat    1088 non-null float64\n",
      "attr      1088 non-null float64\n",
      "dec       1088 non-null int64\n",
      "dtypes: float64(2), int64(3)\n",
      "memory usage: 42.6 KB\n"
     ]
    }
   ],
   "source": [
    "g0d0.info()"
   ]
  },
  {
   "cell_type": "code",
   "execution_count": 132,
   "metadata": {},
   "outputs": [
    {
     "data": {
      "text/plain": [
       "array([4., 4., 4., ..., 6., 4., 4.])"
      ]
     },
     "execution_count": 132,
     "metadata": {},
     "output_type": "execute_result"
    }
   ],
   "source": [
    "df1_a=g0d0['attr']\n",
    "df1_a\n",
    "list1_a=df1_a.values\n",
    "list1_a"
   ]
  },
  {
   "cell_type": "code",
   "execution_count": 133,
   "metadata": {},
   "outputs": [
    {
     "data": {
      "text/plain": [
       "array([1070., 1070., 1070., ..., 1430., 1430., 1430.])"
      ]
     },
     "execution_count": 133,
     "metadata": {},
     "output_type": "execute_result"
    }
   ],
   "source": [
    "df1_m=g0d0['mn_sat']\n",
    "df1_m\n",
    "list1_m=df1_m.values\n",
    "list1_m"
   ]
  },
  {
   "cell_type": "code",
   "execution_count": 134,
   "metadata": {},
   "outputs": [],
   "source": [
    "g0d1= pd.read_csv('g0d1.csv')\n",
    "df2_a=g0d1['attr']\n",
    "df2_a\n",
    "list2_a=df2_a.values"
   ]
  },
  {
   "cell_type": "code",
   "execution_count": 135,
   "metadata": {},
   "outputs": [],
   "source": [
    "df2_m=g0d1['mn_sat']\n",
    "df2_m\n",
    "list2_m=df2_m.values"
   ]
  },
  {
   "cell_type": "code",
   "execution_count": 136,
   "metadata": {},
   "outputs": [],
   "source": [
    "g1d0= pd.read_csv('g1d0.csv')\n",
    "df3_a=g1d0['attr']\n",
    "df3_a\n",
    "list3_a=df3_a.values"
   ]
  },
  {
   "cell_type": "code",
   "execution_count": 137,
   "metadata": {},
   "outputs": [],
   "source": [
    "df3_m=g1d0['mn_sat']\n",
    "df3_m\n",
    "list3_m=df3_m.values"
   ]
  },
  {
   "cell_type": "code",
   "execution_count": 138,
   "metadata": {},
   "outputs": [],
   "source": [
    "g1d1= pd.read_csv('g1d1.csv')\n",
    "df4_a=g1d1['attr']\n",
    "df4_a\n",
    "list4_a=df4_a.values"
   ]
  },
  {
   "cell_type": "code",
   "execution_count": 160,
   "metadata": {},
   "outputs": [],
   "source": [
    "df4_m=g1d1['mn_sat']\n",
    "df4_m\n",
    "list4_m=df4_m.values"
   ]
  },
  {
   "cell_type": "code",
   "execution_count": 163,
   "metadata": {
    "scrolled": true
   },
   "outputs": [
    {
     "data": {
      "image/png": "[encoded data removed]",
      "text/plain": [
       "<Figure size 720x720 with 1 Axes>"
      ]
     },
     "metadata": {
      "needs_background": "light"
     },
     "output_type": "display_data"
    }
   ],
   "source": [
    "plt.scatter(list1_a,list1_m,color='blue',)\n",
    "plt.scatter(list2_a,list2_m,color='black',)\n",
    "plt.gcf().set_size_inches((10, 10)) \n",
    "plt.show()"
   ]
  },
  {
   "cell_type": "code",
   "execution_count": 164,
   "metadata": {},
   "outputs": [
    {
     "data": {
      "image/png": "[encoded data removed]",
      "text/plain": [
       "<Figure size 720x720 with 1 Axes>"
      ]
     },
     "metadata": {
      "needs_background": "light"
     },
     "output_type": "display_data"
    }
   ],
   "source": [
    "plt.scatter(list3_a,list3_m,color='blue',)\n",
    "plt.scatter(list4_a,list4_m,color='black',)\n",
    "plt.gcf().set_size_inches((10, 10)) \n",
    "plt.show()"
   ]
  }
 ],
 "metadata": {
  "kernelspec": {
   "display_name": "Python 3",
   "language": "python",
   "name": "python3"
  },
  "language_info": {
   "codemirror_mode": {
    "name": "ipython",
    "version": 3
   },
   "file_extension": ".py",
   "mimetype": "text/x-python",
   "name": "python",
   "nbconvert_exporter": "python",
   "pygments_lexer": "ipython3",
   "version": "3.7.0"
  }
 },
 "nbformat": 4,
 "nbformat_minor": 2
}
